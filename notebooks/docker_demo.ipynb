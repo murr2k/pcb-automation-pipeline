{
 "cells": [
  {
   "cell_type": "markdown",
   "metadata": {},
   "source": [
    "# PCB Automation Pipeline - Docker Demo\n",
    "\n",
    "This notebook demonstrates using the PCB Automation Pipeline with KiCad in Docker."
   ]
  },
  {
   "cell_type": "code",
   "execution_count": null,
   "metadata": {},
   "outputs": [],
   "source": [
    "# Add pipeline to path\n",
    "import sys\n",
    "sys.path.insert(0, '/app/src')\n",
    "\n",
    "# Test KiCad availability\n",
    "try:\n",
    "    import pcbnew\n",
    "    print(f\"✅ KiCad version: {pcbnew.GetBuildVersion()}\")\n",
    "except ImportError:\n",
    "    print(\"❌ KiCad not available\")"
   ]
  },
  {
   "cell_type": "markdown",
   "metadata": {},
   "source": [
    "## 1. Initialize Pipeline"
   ]
  },
  {
   "cell_type": "code",
   "execution_count": null,
   "metadata": {},
   "outputs": [],
   "source": [
    "from pcb_pipeline import PCBPipeline, PipelineConfig\n",
    "\n",
    "# Configure pipeline\n",
    "config = PipelineConfig()\n",
    "config.set('use_docker', True)\n",
    "config.set('auto_route', True)\n",
    "config.set('manufacturer', 'macrofab')\n",
    "\n",
    "# Initialize\n",
    "pipeline = PCBPipeline(config)\n",
    "print(\"Pipeline initialized!\")"
   ]
  },
  {
   "cell_type": "markdown",
   "metadata": {},
   "source": [
    "## 2. Load Example Design"
   ]
  },
  {
   "cell_type": "code",
   "execution_count": null,
   "metadata": {},
   "outputs": [],
   "source": [
    "# Load example\n",
    "spec_file = '/workspace/examples/simple_led_board/spec.yaml'\n",
    "design = pipeline.load_specification(spec_file)\n",
    "\n",
    "print(f\"Design: {design['name']}\")\n",
    "print(f\"Board size: {design['board']['size']}mm\")\n",
    "print(f\"Components: {len(design['components'])}\")"
   ]
  },
  {
   "cell_type": "markdown",
   "metadata": {},
   "source": [
    "## 3. Generate PCB"
   ]
  },
  {
   "cell_type": "code",
   "execution_count": null,
   "metadata": {},
   "outputs": [],
   "source": [
    "# Generate schematic\n",
    "print(\"Generating schematic...\")\n",
    "schematic = pipeline.generate_schematic(design)\n",
    "\n",
    "# Create layout\n",
    "print(\"Creating PCB layout...\")\n",
    "pcb = pipeline.create_layout(schematic)\n",
    "\n",
    "print(f\"PCB created: {pcb.board_size[0]}x{pcb.board_size[1]}mm\")"
   ]
  },
  {
   "cell_type": "markdown",
   "metadata": {},
   "source": [
    "## 4. AI Optimization"
   ]
  },
  {
   "cell_type": "code",
   "execution_count": null,
   "metadata": {},
   "outputs": [],
   "source": [
    "from pcb_pipeline.design_suggester import DesignSuggester\n",
    "\n",
    "# Get AI suggestions\n",
    "suggester = DesignSuggester(config)\n",
    "suggestions = suggester.suggest_placement_improvements(pcb)\n",
    "\n",
    "print(f\"Found {len(suggestions)} optimization suggestions:\")\n",
    "for i, suggestion in enumerate(suggestions[:3]):\n",
    "    print(f\"\\n{i+1}. {suggestion['description']}\")\n",
    "    print(f\"   Priority: {suggestion['priority_score']}/100\")\n",
    "    print(f\"   Action: {suggestion['suggestion']}\")"
   ]
  },
  {
   "cell_type": "markdown",
   "metadata": {},
   "source": [
    "## 5. Auto-Routing"
   ]
  },
  {
   "cell_type": "code",
   "execution_count": null,
   "metadata": {},
   "outputs": [],
   "source": [
    "from pcb_pipeline.auto_router import AutoRouter\n",
    "\n",
    "# Configure router\n",
    "config.set('routing_backend', 'grid_based')  # Use built-in router\n",
    "router = AutoRouter(config)\n",
    "\n",
    "# Route the board\n",
    "print(\"Auto-routing PCB...\")\n",
    "routed_pcb = router.route_board(pcb)\n",
    "\n",
    "# Show statistics\n",
    "stats = router.get_routing_stats(routed_pcb)\n",
    "print(f\"\\nRouting statistics:\")\n",
    "print(f\"  Completion: {stats['completion_rate']:.1f}%\")\n",
    "print(f\"  Total traces: {stats['total_traces']}\")\n",
    "print(f\"  Vias used: {stats['via_count']}\")\n",
    "print(f\"  Length matched: {stats['length_matched_nets']}\")"
   ]
  },
  {
   "cell_type": "markdown",
   "metadata": {},
   "source": [
    "## 6. Export Manufacturing Files"
   ]
  },
  {
   "cell_type": "code",
   "execution_count": null,
   "metadata": {},
   "outputs": [],
   "source": [
    "# Export files\n",
    "output_dir = '/output/notebook_demo'\n",
    "print(f\"Exporting to {output_dir}...\")\n",
    "\n",
    "exported_files = pipeline.export_gerbers(routed_pcb, output_dir)\n",
    "print(f\"\\nExported {len(exported_files)} files:\")\n",
    "for file in exported_files[:5]:\n",
    "    print(f\"  - {file.name}\")"
   ]
  },
  {
   "cell_type": "markdown",
   "metadata": {},
   "source": [
    "## 7. Get Manufacturer Quotes"
   ]
  },
  {
   "cell_type": "code",
   "execution_count": null,
   "metadata": {},
   "outputs": [],
   "source": [
    "from pcb_pipeline.fab_interface import FabricationManager\n",
    "\n",
    "# Get quotes from all manufacturers\n",
    "fab_manager = FabricationManager(config)\n",
    "quotes = fab_manager.get_all_quotes(routed_pcb, quantity=10)\n",
    "\n",
    "# Display comparison\n",
    "import pandas as pd\n",
    "\n",
    "quote_data = []\n",
    "for mfg, quote in quotes.items():\n",
    "    if 'error' not in quote:\n",
    "        quote_data.append({\n",
    "            'Manufacturer': mfg,\n",
    "            'Price': f\"${quote['price']}\",\n",
    "            'Lead Time': f\"{quote['lead_time']} days\",\n",
    "            'Location': 'USA' if mfg in ['macrofab', 'oshpark'] else 'China'\n",
    "        })\n",
    "\n",
    "df = pd.DataFrame(quote_data)\n",
    "df"
   ]
  },
  {
   "cell_type": "markdown",
   "metadata": {},
   "source": [
    "## 8. Visualize Board (Text Representation)"
   ]
  },
  {
   "cell_type": "code",
   "execution_count": null,
   "metadata": {},
   "outputs": [],
   "source": [
    "# Simple board visualization\n",
    "def visualize_board(pcb):\n",
    "    \"\"\"Create simple text visualization of PCB.\"\"\"\n",
    "    width, height = pcb.board_size\n",
    "    scale = 2  # Characters per mm\n",
    "    \n",
    "    # Create board grid\n",
    "    board = [[' ' for _ in range(int(width * scale))] \n",
    "             for _ in range(int(height * scale))]\n",
    "    \n",
    "    # Add components\n",
    "    for comp in pcb.components:\n",
    "        x = int(comp.position[0] * scale)\n",
    "        y = int(comp.position[1] * scale)\n",
    "        if 0 <= x < len(board[0]) and 0 <= y < len(board):\n",
    "            board[y][x] = comp.reference[0]  # First letter of reference\n",
    "    \n",
    "    # Print board\n",
    "    print(f\"PCB Layout ({width}x{height}mm):\")\n",
    "    print('┌' + '─' * (int(width * scale)) + '┐')\n",
    "    for row in board:\n",
    "        print('│' + ''.join(row) + '│')\n",
    "    print('└' + '─' * (int(width * scale)) + '┘')\n",
    "    \n",
    "    # Legend\n",
    "    print(\"\\nComponents:\")\n",
    "    for comp in pcb.components:\n",
    "        print(f\"  {comp.reference}: {comp.value}\")\n",
    "\n",
    "visualize_board(routed_pcb)"
   ]
  },
  {
   "cell_type": "markdown",
   "metadata": {},
   "source": [
    "## 9. Summary\n",
    "\n",
    "This notebook demonstrated the complete PCB automation workflow in Docker:\n",
    "\n",
    "1. ✅ Loaded design specification\n",
    "2. ✅ Generated schematic and PCB layout\n",
    "3. ✅ Applied AI optimization suggestions\n",
    "4. ✅ Auto-routed the board\n",
    "5. ✅ Exported manufacturing files\n",
    "6. ✅ Compared manufacturer quotes\n",
    "\n",
    "The pipeline is now ready for production use!"
   ]
  }
 ],
 "metadata": {
  "kernelspec": {
   "display_name": "Python 3",
   "language": "python",
   "name": "python3"
  },
  "language_info": {
   "codemirror_mode": {
    "name": "ipython",
    "version": 3
   },
   "file_extension": ".py",
   "mimetype": "text/x-python",
   "name": "python",
   "nbconvert_exporter": "python",
   "pygments_lexer": "ipython3",
   "version": "3.11.0"
  }
 },
 "nbformat": 4,
 "nbformat_minor": 4
}